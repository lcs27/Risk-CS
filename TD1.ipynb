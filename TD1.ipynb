{
 "cells": [
  {
   "cell_type": "markdown",
   "metadata": {},
   "source": [
    "# Tutorial 1\n",
    "Question proposed by teacher and answers done by Chensheng LUO of CentraleSupélec"
   ]
  },
  {
   "cell_type": "markdown",
   "metadata": {},
   "source": [
    "## Exercise 1.1"
   ]
  },
  {
   "cell_type": "markdown",
   "metadata": {},
   "source": [
    "The aim is to evaluate the reliability of a heat exchanger. Through testing we get the following\n",
    "numbers for all modes of failures:\n",
    "- Mean number of failures per 106 hours: 96.93  \n",
    "\n",
    "We assume that the global failure rate of the heat exchanger is constant."
   ]
  },
  {
   "cell_type": "markdown",
   "metadata": {},
   "source": [
    "5. Estimate the failure rate using intervals of length 50000/10 = 5000h."
   ]
  },
  {
   "cell_type": "code",
   "execution_count": null,
   "metadata": {},
   "outputs": [],
   "source": [
    "import numpy as np\n",
    "from scipy.stats import expon\n",
    "import matplotlib.pyplot as plt\n",
    "\n",
    "\n",
    "lambda_value=96.93e-6\n",
    "fig, ax = plt.subplots(1, 1, figsize=(4, 4))\n",
    "\n",
    "## Statistic-Empirical\n",
    "r = expon.rvs(size=1000,scale=1/lambda_value)\n",
    "number= int((max(r)-min(r))/5000)\n",
    "ax.hist(r, bins=number,density=True, alpha=0.5, label='Empirical distribution')\n",
    "\n",
    "## Theoretical distribution\n",
    "xlim = ax.get_xlim()\n",
    "vx = np.arange(0, xlim[1], 5000)\n",
    "vy = expon.pdf(vx, scale=1/lambda_value)\n",
    "ax.plot(vx, vy, 'r--', label='Theoretical distribution')\n",
    "\n",
    "ax.grid(True)\n",
    "ax.legend(loc='upper right')\n"
   ]
  },
  {
   "cell_type": "code",
   "execution_count": null,
   "metadata": {},
   "outputs": [],
   "source": [
    "## Estimation of failure rate\n",
    "lis=[0]*(number+1)\n",
    "for i in r:\n",
    "    lis[int(i/5000)] += 1\n",
    "\n",
    "a = sum(lis)\n",
    "for i in range(len(lis)):\n",
    "    lis[i]=lis[i]/a\n",
    "\n",
    "failure=[0]*(number)\n",
    "for j in range(len(failure)):\n",
    "    remained = 0\n",
    "    for k in range(j,len(lis)):\n",
    "        remained += lis[k]\n",
    "    failure[j] = lis[j]/remained/5000\n",
    "\n",
    "fig, ax = plt.subplots(1, 1, figsize=(4, 4))\n",
    "ax.bar(range(len(failure)), failure,alpha=0.5,label='Emperical failure rate')\n",
    "vx = np.full(len(failure),lambda_value)\n",
    "ax.plot(range(len(failure)), vx, 'r--', label='Theoretical failure rate')\n",
    "ax.grid(True)\n",
    "ax.legend()"
   ]
  },
  {
   "cell_type": "markdown",
   "metadata": {},
   "source": [
    "6. Proceed again to the estimation of the failure rate with a Weibull distribution"
   ]
  },
  {
   "cell_type": "code",
   "execution_count": null,
   "metadata": {},
   "outputs": [],
   "source": [
    "from scipy.stats import weibull_max\n",
    "import matplotlib.pyplot as plt\n",
    "\n",
    "fig, ax = plt.subplots(1, 1, figsize=(4, 4))\n",
    "\n",
    "## Statistic-Empirical\n",
    "r = weibull_max.rvs(2,size=1000)\n",
    "number=10\n",
    "ax.hist(r, bins=number,density=True, alpha=0.5, label='Empirical distribution')\n",
    "\n",
    "## Theoretical distribution\n",
    "xlim = ax.get_xlim()\n",
    "step = (xlim[1]-xlim[0])/number\n",
    "vx = np.arange(xlim[0], xlim[1], step)\n",
    "vy = weibull_max.pdf(vx,2)\n",
    "ax.plot(vx, vy, 'r--', label='Theoretical distribution')\n",
    "\n",
    "ax.grid(True)\n",
    "ax.legend(loc='upper right')"
   ]
  },
  {
   "cell_type": "code",
   "execution_count": null,
   "metadata": {},
   "outputs": [],
   "source": [
    "## Estimation of failure rate\n",
    "lis=[0]*(number+1)\n",
    "for i in r:\n",
    "    lis[int((i-xlim[0])/step)] += 1\n",
    "\n",
    "a = sum(lis)\n",
    "for i in range(len(lis)):\n",
    "    lis[i]=lis[i]/a\n",
    "\n",
    "failure=[0]*(number)\n",
    "for j in range(len(failure)):\n",
    "    remained = 0\n",
    "    for k in range(j,len(lis)):\n",
    "        remained += lis[k]\n",
    "    failure[j] = lis[j]/remained\n",
    "\n",
    "fig, ax = plt.subplots(1, 1, figsize=(4, 4))\n",
    "ax.bar(range(len(failure)), failure,alpha=0.5,label='Emperical failure rate')\n",
    "ax.grid(True)\n",
    "ax.legend()"
   ]
  },
  {
   "cell_type": "markdown",
   "metadata": {},
   "source": [
    "## Exercise 2.2"
   ]
  },
  {
   "cell_type": "markdown",
   "metadata": {},
   "source": [
    "Let us consider the system below. We assume that the components have exponential lives (and rates $\\lambda_{1}$, $\\lambda_{2}$, $\\lambda_{3}$).The parallel association made of components 2 and 3 is necessary to the survival of the system.  \n",
    "However, they are sharing load (in all rigour the Reliability Block Diagram is no longer a viable representation of the system). This means that if any one among components 2 and 3 fails, the remaining component will have to support a higher load.  \n",
    "This translates in turn to a higher failure rate, namely:  \n",
    "- With load sharing: if Comp 3 fails: $\\lambda_{2}$ becomes $\\lambda_{2}'=4 \\lambda_{2}$  \n",
    "- With load sharing: if Comp 2 fails: $\\lambda_{3}$ becomes $\\lambda_{3}'=4 \\lambda_{3}$  "
   ]
  },
  {
   "cell_type": "markdown",
   "metadata": {},
   "source": [
    "2. Calculate the value of the MTTF using $\\lambda_{1}=0.01h^{-1}$, $\\lambda_{2}=0.02h^{-1}$, $\\lambda_{3}=0.05h^{-1}$"
   ]
  },
  {
   "cell_type": "code",
   "execution_count": null,
   "metadata": {},
   "outputs": [],
   "source": [
    "from math import exp\n",
    "from scipy.integrate import quad\n",
    "\n",
    "lambda1=0.01\n",
    "lambda2=0.02\n",
    "lambda2p=4*lambda2\n",
    "lambda3=0.05\n",
    "lambda3p=4*lambda3\n",
    "\n",
    "# The reliability function\n",
    "def Rs(t):\n",
    "    return exp(-lambda1*t)*(exp(-(lambda2+lambda3)*t)+lambda2/(lambda2+lambda3-lambda3p)*exp(-lambda3p*t)*(1-exp(-(lambda2+lambda3-lambda3p)*t))+lambda3/(lambda2+lambda3-lambda2p)*exp(-lambda2p*t)*(1-exp(-(lambda2+lambda3-lambda2p)*t)))\n",
    "\n",
    "# Intergartion!\n",
    "res, err = quad(Rs, 0, 1000)\n",
    "\n",
    "print(\"The numerical result is {:f} (+-{:g})\"\n",
    "    .format(res, err))"
   ]
  },
  {
   "cell_type": "markdown",
   "metadata": {},
   "source": [
    "3. Generate random trajectories representative of those histories/scenarios using\n",
    "    - X = 3 for ‘All components are functioning’\n",
    "    - X = 2 for ‘Component 2 has failed and 3 supports the full load’\n",
    "    - X = 1 for ‘Component 3 has failed and 2 supports the full load’\n",
    "    - X = 0 for ‘Component 1 has failed or both component 2 and 3 have failed’\n",
    "Estimate the MTTF numerical and compare your results"
   ]
  },
  {
   "cell_type": "code",
   "execution_count": null,
   "metadata": {},
   "outputs": [],
   "source": [
    "import random\n",
    "import matplotlib.pyplot as plt\n",
    "fig, ax = plt.subplots(1, 1, figsize=(4, 4))\n",
    "\n",
    "t=[]\n",
    "\n",
    "for k in range(1000):\n",
    "    X = [3]\n",
    "    \n",
    "    for i in range(1,100):\n",
    "        # Random passation\n",
    "        r1 = random.uniform(0, 1)\n",
    "        r2 = random.uniform(0, 1)\n",
    "        r3 = random.uniform(0, 1)\n",
    "        if X[i-1] == 3:\n",
    "            if r2 < lambda2 and r3>lambda3:\n",
    "                X.append(2)\n",
    "            elif r3 < lambda3 and r2>lambda2:\n",
    "                X.append(1)\n",
    "            elif r1< lambda1 or (r2<lambda2 and r3<lambda3):\n",
    "                X.append(0)\n",
    "                t.append(i)\n",
    "            else:\n",
    "                X.append(3)\n",
    "        elif X[i-1] == 2:\n",
    "            if r1< lambda1 or r3 < lambda3p:\n",
    "                X.append(0)\n",
    "                t.append(i)\n",
    "            else:\n",
    "                X.append(2)\n",
    "        elif X[i-1] == 1:\n",
    "            if r1< lambda1 or r2 < lambda2p:\n",
    "                X.append(0)\n",
    "                t.append(i)\n",
    "            else:\n",
    "                X.append(1)\n",
    "        else:\n",
    "            X.append(0)\n",
    "            \n",
    "    #Plot figure\n",
    "    ax.plot(range(100), X)\n",
    "\n",
    "ax.grid(True)\n",
    "\n",
    "# Calculate MTTF\n",
    "import statistics\n",
    "print('MTTF is',statistics.mean(t))"
   ]
  }
 ],
 "metadata": {
  "kernelspec": {
   "display_name": "Python 3",
   "language": "python",
   "name": "python3"
  },
  "language_info": {
   "codemirror_mode": {
    "name": "ipython",
    "version": 3
   },
   "file_extension": ".py",
   "mimetype": "text/x-python",
   "name": "python",
   "nbconvert_exporter": "python",
   "pygments_lexer": "ipython3",
   "version": "3.8.5"
  }
 },
 "nbformat": 4,
 "nbformat_minor": 4
}
