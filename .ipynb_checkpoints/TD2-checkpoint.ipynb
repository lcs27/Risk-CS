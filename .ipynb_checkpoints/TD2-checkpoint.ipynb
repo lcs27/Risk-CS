{
 "cells": [
  {
   "cell_type": "markdown",
   "metadata": {},
   "source": [
    "# Tutorial 2\n",
    "Question proposed by teacher and answers done by Chensheng LUO of CentraleSupélec"
   ]
  },
  {
   "cell_type": "markdown",
   "metadata": {},
   "source": [
    "We first load the data needed."
   ]
  },
  {
   "cell_type": "code",
   "execution_count": 4,
   "metadata": {},
   "outputs": [
    {
     "name": "stdout",
     "output_type": "stream",
     "text": [
      "[ 98474.4  12373.4 107318.4   9739.7  13000.1  12207.7  63589.4  31893.8\n",
      "   5784.9   9662.7  61731.1  15269.2   4730.   11269.2  26947.1  27838.1\n",
      "  90682.5   8086.6   7905.6  48162.7]\n"
     ]
    }
   ],
   "source": [
    "import numpy as np\n",
    "array1 = np.loadtxt('Projectdata.txt')\n",
    "print(array1)\n",
    "array2 = [31.7, 39.2, 57.5, 65.8, 70.0, 101.7, 109.2, 130.0]\n",
    "array3 = [6.21, 5.12, 2.99, 2.00, 9.79, 5.78, 5.54, 6.44, 8.92, 6.19]"
   ]
  },
  {
   "cell_type": "markdown",
   "metadata": {},
   "source": [
    "## Exercise 1"
   ]
  },
  {
   "cell_type": "markdown",
   "metadata": {},
   "source": [
    "We study the failure dates of pressure transmitters (PT) recorded in the file Projectdata.txt.\n",
    "1. Demonstrate that it is reasonable to assume an exponential probability density function for the lifetime of the PT.\n",
    "2. Estimate the parameter of the pdf with two methods.\n",
    "3. Propose a test to accept or reject the assumption that the exponential pdf obtained with the estimated failure rate is the good one."
   ]
  },
  {
   "cell_type": "markdown",
   "metadata": {},
   "source": [
    "**Answer**\n",
    "1. We calculate the mean and the standard deviation, then we calculate the sample coefficient of variation CV, which is close to 1 and proves that it is reasonable to assume an exponential probability density function for the lifetime of the PT."
   ]
  },
  {
   "cell_type": "code",
   "execution_count": 5,
   "metadata": {},
   "outputs": [
    {
     "name": "stdout",
     "output_type": "stream",
     "text": [
      "1.0000005152914064\n"
     ]
    }
   ],
   "source": [
    "import statistics\n",
    "m=statistics.mean(array1)\n",
    "s=statistics.stdev(array1)\n",
    "print(m/s)"
   ]
  },
  {
   "cell_type": "markdown",
   "metadata": {},
   "source": [
    "2. We first do with the **MLE**. With the calculation, we have $\\lambda_{\\text{MLE}}=\\frac{1}{E(x)}$"
   ]
  },
  {
   "cell_type": "code",
   "execution_count": 6,
   "metadata": {},
   "outputs": [
    {
     "name": "stdout",
     "output_type": "stream",
     "text": [
      "The estimation of lambda by MLE method is 3.0000003000000297e-05\n"
     ]
    }
   ],
   "source": [
    "lambda_MLE = 1/m\n",
    "print('The estimation of lambda by MLE method is', lambda_MLE)"
   ]
  },
  {
   "cell_type": "markdown",
   "metadata": {},
   "source": [
    "We can then use the **method of moment**: we have that the theorical expectation is $E[X]=\\frac{1}{\\lambda}$ so $\\lambda_{MM}=\\frac{1}{E[x]}$"
   ]
  },
  {
   "cell_type": "code",
   "execution_count": 7,
   "metadata": {},
   "outputs": [
    {
     "name": "stdout",
     "output_type": "stream",
     "text": [
      "The estimation of lambda by MM is 3.0000003000000297e-05\n"
     ]
    }
   ],
   "source": [
    "lambda_MM = 1/m\n",
    "print('The estimation of lambda by MM is', lambda_MM)"
   ]
  },
  {
   "cell_type": "markdown",
   "metadata": {},
   "source": [
    "We can then verify the quality of estimation:"
   ]
  },
  {
   "cell_type": "code",
   "execution_count": 10,
   "metadata": {},
   "outputs": [
    {
     "data": {
      "text/plain": [
       "<matplotlib.legend.Legend at 0x14f1d021d90>"
      ]
     },
     "execution_count": 10,
     "metadata": {},
     "output_type": "execute_result"
    },
    {
     "data": {
      "image/png": "[encoded data removed]",
      "text/plain": [
       "<Figure size 288x288 with 1 Axes>"
      ]
     },
     "metadata": {
      "needs_background": "light"
     },
     "output_type": "display_data"
    }
   ],
   "source": [
    "import matplotlib.pyplot as plt\n",
    "from scipy.stats import expon\n",
    "\n",
    "fig, ax = plt.subplots(1, 1, figsize=(4, 4))\n",
    "\n",
    "## Statistic-Empirical\n",
    "ax.hist(array1,density=True, alpha=0.5, label='Empirical distribution')\n",
    "\n",
    "## Theoretical distribution\n",
    "xlim = ax.get_xlim()\n",
    "vx = np.arange(xlim[0], xlim[1],500)\n",
    "vy = expon.pdf(vx, scale=1/lambda_MLE)\n",
    "ax.plot(vx, vy, 'r--', label='Theoretical distribution')\n",
    "\n",
    "ax.grid(True)\n",
    "ax.legend(loc='upper right')"
   ]
  },
  {
   "cell_type": "markdown",
   "metadata": {},
   "source": [
    "3. We do the Kolmogorov-Smirnov test:"
   ]
  },
  {
   "cell_type": "code",
   "execution_count": 42,
   "metadata": {},
   "outputs": [
    {
     "data": {
      "text/plain": [
       "KstestResult(statistic=1.0, pvalue=1.4508889103849681e-11)"
      ]
     },
     "execution_count": 42,
     "metadata": {},
     "output_type": "execute_result"
    }
   ],
   "source": [
    "from scipy import stats\n",
    "scipy.stats.kstest(array1, expon.cdf(array1, scale=1/lambda_MLE))"
   ]
  },
  {
   "cell_type": "markdown",
   "metadata": {},
   "source": [
    "## Exercise 2\n",
    "We study the failure dates of pressure transmitters (PT) recorded in the file Projectdata.txt.\n",
    "1. Determine the empirical cumulative distribution corresponding to this data set and plot it.\n",
    "2. Compare with the cumulative distribution found in Exercise 1.\n",
    "3. Comment and explain how you could improve your results."
   ]
  },
  {
   "cell_type": "markdown",
   "metadata": {},
   "source": [
    "**Answer**"
   ]
  },
  {
   "cell_type": "markdown",
   "metadata": {},
   "source": [
    "1. By the following code:"
   ]
  },
  {
   "cell_type": "code",
   "execution_count": 11,
   "metadata": {},
   "outputs": [
    {
     "data": {
      "text/plain": [
       "<matplotlib.legend.Legend at 0x14f1d089400>"
      ]
     },
     "execution_count": 11,
     "metadata": {},
     "output_type": "execute_result"
    },
    {
     "data": {
      "image/png": "[encoded data removed]",
      "text/plain": [
       "<Figure size 288x288 with 1 Axes>"
      ]
     },
     "metadata": {
      "needs_background": "light"
     },
     "output_type": "display_data"
    }
   ],
   "source": [
    "import matplotlib.pyplot as plt\n",
    "from scipy.stats import expon\n",
    "\n",
    "fig, ax = plt.subplots(1, 1, figsize=(4, 4))\n",
    "\n",
    "## Statistic-Empirical\n",
    "ax.hist(array1,density=True,cumulative=True,alpha=0.5, label='Empirical cumulative distribution')\n",
    "\n",
    "## Theoretical distribution\n",
    "xlim = ax.get_xlim()\n",
    "vx = np.arange(xlim[0], xlim[1],500)\n",
    "vy = expon.cdf(vx, scale=1/lambda_MLE)\n",
    "ax.plot(vx, vy, 'r--', label='Theoretical distribution')\n",
    "\n",
    "ax.grid(True)\n",
    "ax.legend(loc='upper right')"
   ]
  },
  {
   "cell_type": "markdown",
   "metadata": {},
   "source": [
    "2. Let's plot the Q-Q plot:"
   ]
  },
  {
   "cell_type": "code",
   "execution_count": 17,
   "metadata": {},
   "outputs": [
    {
     "data": {
      "image/png": "[encoded data removed]",
      "text/plain": [
       "<Figure size 288x288 with 1 Axes>"
      ]
     },
     "metadata": {
      "needs_background": "light"
     },
     "output_type": "display_data"
    }
   ],
   "source": [
    "# We can use probplot function\n",
    "from scipy.stats import probplot\n",
    "fig, ax = plt.subplots(1, 1, figsize=(4, 4))\n",
    "probplot(array1, dist=expon, sparams=(1/lambda_MLE), plot=ax)\n",
    "ax.grid(True)"
   ]
  },
  {
   "cell_type": "code",
   "execution_count": 14,
   "metadata": {},
   "outputs": [
    {
     "data": {
      "image/png": "[encoded data removed]",
      "text/plain": [
       "<Figure size 288x288 with 1 Axes>"
      ]
     },
     "metadata": {
      "needs_background": "light"
     },
     "output_type": "display_data"
    }
   ],
   "source": [
    "# We can also try to write by ourselves\n",
    "\n",
    "## First we sort the array\n",
    "array1 = np.sort(array1)\n",
    "\n",
    "## Find the corresponding theorical point: emperical cumulative pdf\n",
    "theorical=[]\n",
    "for i in range(len(array1)):\n",
    "    theorical.append(expon.ppf((i+1)/len(array1), scale=1/lambda_MLE))\n",
    "\n",
    "## Plot it!\n",
    "fig, ax = plt.subplots(1, 1, figsize=(4, 4))\n",
    "ax.scatter(array1, theorical)\n",
    "xlim = ax.get_xlim()\n",
    "ylim = ax.get_ylim()\n",
    "lim = [np.min([xlim[0], ylim[0]]), np.max([xlim[1], ylim[1]])]\n",
    "ax.plot(lim, lim, 'r')\n",
    "ax.set_xlim(lim)\n",
    "ax.set_ylim(lim)\n",
    "ax.grid(True)"
   ]
  },
  {
   "cell_type": "markdown",
   "metadata": {},
   "source": [
    "## Exercise3 "
   ]
  },
  {
   "cell_type": "markdown",
   "metadata": {},
   "source": [
    "We consider a complete sample of lifetimes that are independent and identical to Weibull distribution.\n",
    "1. Propose a method to estimate the parameters of the distribution\n",
    "2. Apply it to the follow data set: (31.7, 39.2, 57.5, 65.8, 70.0, 101.7, 109.2, 130.0)"
   ]
  },
  {
   "cell_type": "markdown",
   "metadata": {},
   "source": [
    "**Answer**\n",
    "We use the methode of **maximisation of likelihood function**, here we use ```optimize``` package:\n"
   ]
  },
  {
   "cell_type": "code",
   "execution_count": 41,
   "metadata": {},
   "outputs": [
    {
     "name": "stdout",
     "output_type": "stream",
     "text": [
      "Optimization terminated successfully.\n",
      "         Current function value: 78851333551228976.000000\n",
      "         Iterations: 116\n",
      "         Function evaluations: 264\n",
      "[85.5741035  2.543016 ]\n"
     ]
    }
   ],
   "source": [
    "import scipy\n",
    "\n",
    "def weib(x,n,a):\n",
    "    return (a / n) * (x / n)**(a - 1) * np.exp(-(x / n)**a)\n",
    "\n",
    "def likelihood(x): \n",
    "    likelihood=1\n",
    "    for i in array2:\n",
    "        likelihood *= weib(i,x[0],x[1])\n",
    "    return likelihood\n",
    "max_x = scipy.optimize.fmin(lambda x: 1/likelihood(x), [120,1])\n",
    "print(max_x)"
   ]
  },
  {
   "cell_type": "markdown",
   "metadata": {},
   "source": [
    "## Exercise4"
   ]
  },
  {
   "cell_type": "markdown",
   "metadata": {},
   "source": [
    "We consider the following sample: (6.21, 5.12, 2.99, 2.00, 9.79, 5.78, 5.54, 6.44, 8.92, 6.19)  \n",
    "Propose a method to accept or reject the assumption that the data are from the Normal distribution $N(5, 2^{2})$. We want a probability of error equals to 0.243 (i.e. the probability to decide that the data are not from the Normal distribution $N(5, 2^{2})$ whereas they are)."
   ]
  },
  {
   "cell_type": "markdown",
   "metadata": {},
   "source": [
    "**Answer** Let's do Kolmogorov-Smirnov test.\n"
   ]
  },
  {
   "cell_type": "code",
   "execution_count": 50,
   "metadata": {},
   "outputs": [
    {
     "data": {
      "text/plain": [
       "KstestResult(statistic=0.5, pvalue=0.062288669185221024)"
      ]
     },
     "execution_count": 50,
     "metadata": {},
     "output_type": "execute_result"
    }
   ],
   "source": [
    "from scipy import stats\n",
    "new=[]\n",
    "for i in array3:\n",
    "    new.append(i-5)\n",
    "scipy.stats.kstest(new, stats.norm.cdf(array1, scale=2))\n"
   ]
  },
  {
   "cell_type": "code",
   "execution_count": 106,
   "metadata": {},
   "outputs": [
    {
     "name": "stdout",
     "output_type": "stream",
     "text": [
      "Maximum of difference is 0.3239221826541068\n",
      "threshold is  0.3245023948069677\n",
      "The answer of the test is: True .\n"
     ]
    }
   ],
   "source": [
    "## First we sort the array\n",
    "new = np.sort(new)\n",
    "\n",
    "## Find the corresponding theorical point: emperical cumulative pdf\n",
    "difference=[]\n",
    "for i in range(len(new)):\n",
    "    difference.append(abs(stats.norm.cdf(new[i], scale=2)-(i+1)/len(new)))\n",
    "    difference.append(abs(stats.norm.cdf(new[i], scale=2)-i/len(new)))\n",
    "print('Maximum of difference is', max(difference))\n",
    "\n",
    "## Threshold\n",
    "import math\n",
    "alpha = 0.243\n",
    "threshold = 1/ math.sqrt(len(array3)) *  stats.kstwobign.ppf(1-alpha)\n",
    "print('threshold is ',threshold)\n",
    "\n",
    "## Answer\n",
    "print('The answer of the test is:',max(difference)<threshold,'.')"
   ]
  }
 ],
 "metadata": {
  "kernelspec": {
   "display_name": "Python 3",
   "language": "python",
   "name": "python3"
  },
  "language_info": {
   "codemirror_mode": {
    "name": "ipython",
    "version": 3
   },
   "file_extension": ".py",
   "mimetype": "text/x-python",
   "name": "python",
   "nbconvert_exporter": "python",
   "pygments_lexer": "ipython3",
   "version": "3.8.5"
  }
 },
 "nbformat": 4,
 "nbformat_minor": 4
}
