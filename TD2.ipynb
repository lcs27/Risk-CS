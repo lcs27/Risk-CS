{
 "cells": [
  {
   "cell_type": "markdown",
   "metadata": {},
   "source": [
    "# Tutorial 2\n",
    "Question proposed by teacher and answers done by Chensheng LUO of CentraleSupélec"
   ]
  },
  {
   "cell_type": "markdown",
   "metadata": {},
   "source": [
    "We first load the data needed."
   ]
  },
  {
   "cell_type": "code",
   "execution_count": 5,
   "metadata": {},
   "outputs": [
    {
     "name": "stdout",
     "output_type": "stream",
     "text": [
      "[ 98474.4  12373.4 107318.4   9739.7  13000.1  12207.7  63589.4  31893.8\n",
      "   5784.9   9662.7  61731.1  15269.2   4730.   11269.2  26947.1  27838.1\n",
      "  90682.5   8086.6   7905.6  48162.7]\n"
     ]
    }
   ],
   "source": [
    "import numpy as np\n",
    "array1 = np.loadtxt('Projectdata.txt')\n",
    "print(array1)\n",
    "array2 = [31.7, 39.2, 57.5, 65.8, 70.0, 101.7, 109.2, 130.0]\n",
    "array3 = [6.21, 5.12, 2.99, 2.00, 9.79, 5.78, 5.54, 6.44, 8.92, 6.19]"
   ]
  },
  {
   "cell_type": "markdown",
   "metadata": {},
   "source": [
    "## Exercise 1"
   ]
  },
  {
   "cell_type": "markdown",
   "metadata": {},
   "source": [
    "We study the failure dates of pressure transmitters (PT) recorded in the file Projectdata.txt.\n",
    "1. Demonstrate that it is reasonable to assume an exponential probability density function for the lifetime of the PT.\n",
    "2. Estimate the parameter of the pdf with two methods.\n",
    "3. Propose a test to accept or reject the assumption that the exponential pdf obtained with the estimated failure rate is the good one."
   ]
  },
  {
   "cell_type": "markdown",
   "metadata": {},
   "source": [
    "**Answer**\n",
    "1. We calculate the mean and the standard deviation, then we calculate the sample coefficient of variation CV, which is close to 1 and proves that it is reasonable to assume an exponential probability density function for the lifetime of the PT."
   ]
  },
  {
   "cell_type": "code",
   "execution_count": 6,
   "metadata": {},
   "outputs": [
    {
     "name": "stdout",
     "output_type": "stream",
     "text": [
      "1.0000005152914064\n"
     ]
    }
   ],
   "source": [
    "import statistics\n",
    "m=statistics.mean(array1)\n",
    "s=statistics.stdev(array1)\n",
    "print(m/s)"
   ]
  },
  {
   "cell_type": "markdown",
   "metadata": {},
   "source": [
    "2. We first do with the MLE. With the calculation, we have $\\lambda_{\\text{MLE}}=\\frac{1}{E(x)}$"
   ]
  },
  {
   "cell_type": "code",
   "execution_count": 7,
   "metadata": {},
   "outputs": [
    {
     "name": "stdout",
     "output_type": "stream",
     "text": [
      "The estimation of lambda by MLE method is 3.0000003000000297e-05\n"
     ]
    }
   ],
   "source": [
    "lambda_MLE = 1/m\n",
    "print('The estimation of lambda by MLE method is', lambda_MLE)"
   ]
  },
  {
   "cell_type": "markdown",
   "metadata": {},
   "source": [
    "We can then use the **method of moment**: we have that the theorical expectation is $E[X]=\\frac{1}{\\lambda}$ so $lambda_{MM}=\\frac{1}{E[x]}$"
   ]
  },
  {
   "cell_type": "code",
   "execution_count": 8,
   "metadata": {},
   "outputs": [
    {
     "name": "stdout",
     "output_type": "stream",
     "text": [
      "The estimation of lambda by MM is 3.0000003000000297e-05\n"
     ]
    }
   ],
   "source": [
    "lambda_MM = 1/m\n",
    "print('The estimation of lambda by MM is', lambda_MM)"
   ]
  },
  {
   "cell_type": "markdown",
   "metadata": {},
   "source": [
    "3. We do the Kolmogorov-Smirnov test:"
   ]
  },
  {
   "cell_type": "code",
   "execution_count": null,
   "metadata": {},
   "outputs": [],
   "source": []
  },
  {
   "cell_type": "markdown",
   "metadata": {},
   "source": [
    "## Exercise 2\n",
    "We study the failure dates of pressure transmitters (PT) recorded in the file Projectdata.txt.\n",
    "1. Determine the empirical cumulative distribution corresponding to this data set and plot it.\n",
    "2. Compare with the cumulative distribution found in Exercise 1.\n",
    "3. Comment and explain how you could improve your results."
   ]
  },
  {
   "cell_type": "code",
   "execution_count": 13,
   "metadata": {},
   "outputs": [],
   "source": [
    "import numpy as np\n",
    "import matplotlib.pyplot as plt"
   ]
  },
  {
   "cell_type": "code",
   "execution_count": null,
   "metadata": {},
   "outputs": [],
   "source": []
  },
  {
   "cell_type": "code",
   "execution_count": null,
   "metadata": {},
   "outputs": [],
   "source": []
  }
 ],
 "metadata": {
  "kernelspec": {
   "display_name": "Python 3",
   "language": "python",
   "name": "python3"
  },
  "language_info": {
   "codemirror_mode": {
    "name": "ipython",
    "version": 3
   },
   "file_extension": ".py",
   "mimetype": "text/x-python",
   "name": "python",
   "nbconvert_exporter": "python",
   "pygments_lexer": "ipython3",
   "version": "3.8.5"
  }
 },
 "nbformat": 4,
 "nbformat_minor": 4
}
