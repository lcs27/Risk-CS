{
 "cells": [
  {
   "cell_type": "markdown",
   "metadata": {},
   "source": [
    "# Tutorial 2\n",
    "Done by Chensheng LUO of CentraleSupélec"
   ]
  },
  {
   "cell_type": "markdown",
   "metadata": {},
   "source": [
    "We first load the data needed."
   ]
  },
  {
   "cell_type": "code",
   "execution_count": 3,
   "metadata": {},
   "outputs": [
    {
     "name": "stdout",
     "output_type": "stream",
     "text": [
      "[98474.4, 12373.4, 107318.4, 9739.7, 13000.1, 12207.7, 63589.4, 31893.8, 5784.9, 9662.7, 61731.1, 15269.2, 4730.0, 11269.2, 26947.1, 27838.1, 90682.5, 8086.6, 7905.6, 48162.7]\n"
     ]
    }
   ],
   "source": [
    "array = []\n",
    " \n",
    "for line in open('Projectdata.txt'):\n",
    "    array.extend(line.strip().split(' '))\n",
    " \n",
    "array = map(float, array)\n",
    "print(list(array))"
   ]
  },
  {
   "cell_type": "code",
   "execution_count": null,
   "metadata": {},
   "outputs": [],
   "source": []
  }
 ],
 "metadata": {
  "kernelspec": {
   "display_name": "Python 3",
   "language": "python",
   "name": "python3"
  },
  "language_info": {
   "codemirror_mode": {
    "name": "ipython",
    "version": 3
   },
   "file_extension": ".py",
   "mimetype": "text/x-python",
   "name": "python",
   "nbconvert_exporter": "python",
   "pygments_lexer": "ipython3",
   "version": "3.8.5"
  }
 },
 "nbformat": 4,
 "nbformat_minor": 4
}
